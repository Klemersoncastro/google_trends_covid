{
  "nbformat": 4,
  "nbformat_minor": 0,
  "metadata": {
    "colab": {
      "name": "0. Equipe 3 -Relação entre Casos pesquisas por Covid e no Google Trends e Dados Oficiais.ipynb",
      "provenance": [],
      "toc_visible": true,
      "authorship_tag": "ABX9TyPqZwuGSKfOKQCfP5EwMEK3",
      "include_colab_link": true
    },
    "kernelspec": {
      "name": "python3",
      "display_name": "Python 3"
    }
  },
  "cells": [
    {
      "cell_type": "markdown",
      "metadata": {
        "id": "view-in-github",
        "colab_type": "text"
      },
      "source": [
        "<a href=\"https://colab.research.google.com/github/Klemersoncastro/google_trends_covid/blob/grupo/0_Equipe_3_Rela%C3%A7%C3%A3o_entre_Casos_pesquisas_por_Covid_no_Google_Trends_e_Dados_Oficiais.ipynb\" target=\"_parent\"><img src=\"https://colab.research.google.com/assets/colab-badge.svg\" alt=\"Open In Colab\"/></a>"
      ]
    },
    {
      "cell_type": "markdown",
      "metadata": {
        "id": "wgse0EeOYy8y"
      },
      "source": [
        "# <center>Universidade do Estado do Amazonas</center>\r\n",
        "###  <center>Escola Superior de Tecnologia</center>\r\n",
        "#####  <center>Pós-graduação Lato Sensu em Ciência de Dados</center>\r\n",
        "#####  <center> Aquisição, Pré-Processamento e Exploração de Dados (Turma 02)</center>\r\n",
        "---\r\n",
        "## <center> Trabalho Final</center>\r\n",
        "##### <center>Professor: <a href=\"http://tiagodemelo.info/\" target=\"_blank\">PhD. LUIS CUEVAS RODRIGUEZ</a></center>\r\n",
        "###### <center>**Equipe 3**: Daniel Soares, Leonardo Rocha, Klemerson Castro e Heryck Michael Corrêa</center>\r\n"
      ]
    },
    {
      "cell_type": "markdown",
      "metadata": {
        "id": "jbkzC8FCdJUK"
      },
      "source": [
        "# **1. Objetivo**"
      ]
    },
    {
      "cell_type": "markdown",
      "metadata": {
        "id": "NBE6uTOidi_b"
      },
      "source": [
        "Trabalho final de curso com o objetivo de utilizar as técnicas de Ciência de Dados para responder questões interessantes para um Negócio aplicando as técnicas de Coleta de Dados, aplicar métodos de pré-processamento de dados, explorar os dados e responder as questões definidas pela Equipe "
      ]
    },
    {
      "cell_type": "markdown",
      "metadata": {
        "id": "-pyp5B6ydR0r"
      },
      "source": [
        "### **1.1. Pergunta Chave do Negócio** \r\n",
        "**A.** Existe relação entre as pesquisas sobre a Pandemia do Corona Virus e os dados oficiais disponibilizados dos casos registrados no Brasil e no Amazonas?\r\n",
        "\r\n",
        "**B.** Avaliar se os dados disponibilizados pelo Google Trends, relacionado com o Corona Virus podem ser usados por planejadores de políticas públicas para relacionar as pesquisas realizadas com os dados oficiais do Governo."
      ]
    },
    {
      "cell_type": "markdown",
      "metadata": {
        "id": "ZPy3r834h34x"
      },
      "source": [
        "**1.2. Introdução**\r\n",
        "\r\n",
        "Quando adoecemos, muitos de nós recorremos ao Google para entender nossos sintomas e opções de tratamento. As buscas online por informações médicas cresceram junto com a taxa de acesso à internet, que hoje chega a 59% em todo o mundo . Começando com o exame de surtos de gripe , os pesquisadores descobriram que a atividade de pesquisa do Google muitas vezes imita a carga real de doenças. Além disso, como as pessoas pesquisam online por informações sobre os sintomas antes (ou em vez de) acessar o atendimento médico, a atividade de pesquisa online dos sintomas pode preceder os surtos de doenças observados . Isso significa que a atividade de pesquisa pode potencialmente usado como um sistema de alerta precoce. Os alertas precoces podem ajudar governos e profissionais de saúde a mobilizar recursos e se preparar para responder - o que é particularmente crucial durante a pandemia COVID-19.\r\n",
        "Muitas pesquisas disponiveis na internet mostraram que a atividade de pesquisa do Google está correlacionada com a incidência de várias outras doenças, incluindo dengue, diabetes , Ebola , Zika, entre outras."
      ]
    },
    {
      "cell_type": "markdown",
      "metadata": {
        "id": "kRn_TGjSZfOv"
      },
      "source": [
        "# **2- Coletando os Dados**"
      ]
    },
    {
      "cell_type": "markdown",
      "metadata": {
        "id": "MeJ7qhK3ZrsJ"
      },
      "source": [
        "# 3- Normalização"
      ]
    },
    {
      "cell_type": "markdown",
      "metadata": {
        "id": "undy34qrZw_U"
      },
      "source": [
        "# 4- Correlação"
      ]
    },
    {
      "cell_type": "markdown",
      "metadata": {
        "id": "n7J3SSQwZ0rk"
      },
      "source": [
        "# 5- Analise"
      ]
    },
    {
      "cell_type": "markdown",
      "metadata": {
        "id": "cRmTKh1pZ3hZ"
      },
      "source": [
        "# Considerações Finais"
      ]
    }
  ]
}