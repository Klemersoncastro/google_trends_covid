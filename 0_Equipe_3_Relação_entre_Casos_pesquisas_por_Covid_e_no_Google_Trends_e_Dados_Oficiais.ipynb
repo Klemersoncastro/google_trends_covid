{
  "nbformat": 4,
  "nbformat_minor": 0,
  "metadata": {
    "colab": {
      "name": "0. Equipe 3 -Relação entre Casos pesquisas por Covid e no Google Trends e Dados Oficiais.ipynb",
      "provenance": [],
      "authorship_tag": "ABX9TyP9qH6FdoqEksS9mQlHI4JX",
      "include_colab_link": true
    },
    "kernelspec": {
      "name": "python3",
      "display_name": "Python 3"
    }
  },
  "cells": [
    {
      "cell_type": "markdown",
      "metadata": {
        "id": "view-in-github",
        "colab_type": "text"
      },
      "source": [
        "<a href=\"https://colab.research.google.com/github/Klemersoncastro/google_trends_covid/blob/grupo/0_Equipe_3_Rela%C3%A7%C3%A3o_entre_Casos_pesquisas_por_Covid_e_no_Google_Trends_e_Dados_Oficiais.ipynb\" target=\"_parent\"><img src=\"https://colab.research.google.com/assets/colab-badge.svg\" alt=\"Open In Colab\"/></a>"
      ]
    },
    {
      "cell_type": "code",
      "metadata": {
        "id": "X7KUMZSKXBHg"
      },
      "source": [
        "#**Data Science: Analisando os Dados da Airbnb no Rio de Janeiro**\r\n",
        "*by Leonardo Ferreira*"
      ],
      "execution_count": null,
      "outputs": []
    }
  ]
}